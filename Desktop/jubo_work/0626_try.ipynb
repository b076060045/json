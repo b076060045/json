{
 "cells": [
  {
   "cell_type": "code",
   "execution_count": 21,
   "metadata": {},
   "outputs": [],
   "source": [
    "import linkinpark\n",
    "import os\n",
    "import pandas as pd"
   ]
  },
  {
   "cell_type": "code",
   "execution_count": 22,
   "metadata": {},
   "outputs": [],
   "source": [
    "os.environ['GOOGLE_APPLICATION_CREDENTIALS'] = '/Users/xuzhejia/jubo_work/gcp_key.json'"
   ]
  },
  {
   "cell_type": "code",
   "execution_count": 23,
   "metadata": {},
   "outputs": [],
   "source": [
    "from linkinpark.lib.common.bq_manager import BigQueryConnector "
   ]
  },
  {
   "cell_type": "code",
   "execution_count": 24,
   "metadata": {},
   "outputs": [
    {
     "name": "stdout",
     "output_type": "stream",
     "text": [
      "/Users/xuzhejia/opt/anaconda3/bin/python\n"
     ]
    }
   ],
   "source": [
    "!which python"
   ]
  },
  {
   "cell_type": "code",
   "execution_count": 25,
   "metadata": {},
   "outputs": [
    {
     "name": "stdout",
     "output_type": "stream",
     "text": [
      "gcp_key.json\n"
     ]
    }
   ],
   "source": [
    "!ls /Users/xuzhejia/jubo_work"
   ]
  },
  {
   "cell_type": "code",
   "execution_count": 26,
   "metadata": {},
   "outputs": [],
   "source": [
    "!export -p GOOGLE_APPLICATION_CREDENTIALS"
   ]
  },
  {
   "cell_type": "code",
   "execution_count": 27,
   "metadata": {},
   "outputs": [],
   "source": [
    "con = BigQueryConnector()\n",
    "a = con.tables('raw_prod_datahub_mongo')[1]\n"
   ]
  },
  {
   "cell_type": "code",
   "execution_count": 28,
   "metadata": {},
   "outputs": [
    {
     "data": {
      "text/plain": [
       "<google.cloud.bigquery.table.TableListItem at 0x7f99c3bdaca0>"
      ]
     },
     "execution_count": 28,
     "metadata": {},
     "output_type": "execute_result"
    }
   ],
   "source": [
    "con.tables('raw_prod_datahub_mongo')[0]"
   ]
  },
  {
   "cell_type": "code",
   "execution_count": 29,
   "metadata": {},
   "outputs": [],
   "source": [
    "con = BigQueryConnector()\n",
    "sql = r'SELECT FiO2 FROM jubo-ai.raw_prod_datahub_mongo.patients where FiO2 = \"100\"'\n",
    "s = con.execute_sql_in_bq(sql)"
   ]
  },
  {
   "cell_type": "code",
   "execution_count": 30,
   "metadata": {},
   "outputs": [],
   "source": [
    "con = BigQueryConnector()\n",
    "sql = r'SELECT Birthday FROM jubo-ai.raw_prod_datahub_mongo.patients where Birthday != \"NULL\"'\n",
    "s = con.execute_sql_in_bq(sql)"
   ]
  },
  {
   "cell_type": "code",
   "execution_count": 35,
   "metadata": {},
   "outputs": [
    {
     "data": {
      "text/plain": [
       "[<google.cloud.bigquery.dataset.DatasetListItem at 0x7f99c2de7d90>,\n",
       " <google.cloud.bigquery.dataset.DatasetListItem at 0x7f99c3c5e490>,\n",
       " <google.cloud.bigquery.dataset.DatasetListItem at 0x7f99c3c5ed30>,\n",
       " <google.cloud.bigquery.dataset.DatasetListItem at 0x7f99c3c5ec70>,\n",
       " <google.cloud.bigquery.dataset.DatasetListItem at 0x7f99c3c5ecd0>,\n",
       " <google.cloud.bigquery.dataset.DatasetListItem at 0x7f99c3bda8b0>,\n",
       " <google.cloud.bigquery.dataset.DatasetListItem at 0x7f99c3bda910>,\n",
       " <google.cloud.bigquery.dataset.DatasetListItem at 0x7f99c3bda100>,\n",
       " <google.cloud.bigquery.dataset.DatasetListItem at 0x7f99c3bdaa00>,\n",
       " <google.cloud.bigquery.dataset.DatasetListItem at 0x7f99c3bda370>,\n",
       " <google.cloud.bigquery.dataset.DatasetListItem at 0x7f99c3bda670>,\n",
       " <google.cloud.bigquery.dataset.DatasetListItem at 0x7f99c3bda4c0>,\n",
       " <google.cloud.bigquery.dataset.DatasetListItem at 0x7f99c3bda310>,\n",
       " <google.cloud.bigquery.dataset.DatasetListItem at 0x7f99c3bda490>,\n",
       " <google.cloud.bigquery.dataset.DatasetListItem at 0x7f99c3bdaaf0>,\n",
       " <google.cloud.bigquery.dataset.DatasetListItem at 0x7f99c3bda970>,\n",
       " <google.cloud.bigquery.dataset.DatasetListItem at 0x7f99c3bda0d0>,\n",
       " <google.cloud.bigquery.dataset.DatasetListItem at 0x7f99c3bdaa90>,\n",
       " <google.cloud.bigquery.dataset.DatasetListItem at 0x7f99c3bda2b0>,\n",
       " <google.cloud.bigquery.dataset.DatasetListItem at 0x7f99c3bda220>,\n",
       " <google.cloud.bigquery.dataset.DatasetListItem at 0x7f99c3bda1f0>,\n",
       " <google.cloud.bigquery.dataset.DatasetListItem at 0x7f99c3bda280>,\n",
       " <google.cloud.bigquery.dataset.DatasetListItem at 0x7f99c3bdab50>,\n",
       " <google.cloud.bigquery.dataset.DatasetListItem at 0x7f99c3bdabe0>,\n",
       " <google.cloud.bigquery.dataset.DatasetListItem at 0x7f99c3bdae50>,\n",
       " <google.cloud.bigquery.dataset.DatasetListItem at 0x7f99c3bdadf0>,\n",
       " <google.cloud.bigquery.dataset.DatasetListItem at 0x7f99c3bdaee0>,\n",
       " <google.cloud.bigquery.dataset.DatasetListItem at 0x7f99c3bda760>,\n",
       " <google.cloud.bigquery.dataset.DatasetListItem at 0x7f99c3bdaac0>,\n",
       " <google.cloud.bigquery.dataset.DatasetListItem at 0x7f99c3bda730>,\n",
       " <google.cloud.bigquery.dataset.DatasetListItem at 0x7f99c3bdaf10>,\n",
       " <google.cloud.bigquery.dataset.DatasetListItem at 0x7f99c3bda6d0>,\n",
       " <google.cloud.bigquery.dataset.DatasetListItem at 0x7f99c3bda160>,\n",
       " <google.cloud.bigquery.dataset.DatasetListItem at 0x7f99c3bda790>,\n",
       " <google.cloud.bigquery.dataset.DatasetListItem at 0x7f99c3c32fd0>,\n",
       " <google.cloud.bigquery.dataset.DatasetListItem at 0x7f99c3c32e80>,\n",
       " <google.cloud.bigquery.dataset.DatasetListItem at 0x7f99c3c327c0>,\n",
       " <google.cloud.bigquery.dataset.DatasetListItem at 0x7f99c3c32c40>,\n",
       " <google.cloud.bigquery.dataset.DatasetListItem at 0x7f99c3c32af0>,\n",
       " <google.cloud.bigquery.dataset.DatasetListItem at 0x7f99c3c327f0>,\n",
       " <google.cloud.bigquery.dataset.DatasetListItem at 0x7f99c3c32460>,\n",
       " <google.cloud.bigquery.dataset.DatasetListItem at 0x7f99c3c32940>,\n",
       " <google.cloud.bigquery.dataset.DatasetListItem at 0x7f99c3c328b0>,\n",
       " <google.cloud.bigquery.dataset.DatasetListItem at 0x7f99c3c32910>,\n",
       " <google.cloud.bigquery.dataset.DatasetListItem at 0x7f99c3c32a30>,\n",
       " <google.cloud.bigquery.dataset.DatasetListItem at 0x7f99c3c32730>,\n",
       " <google.cloud.bigquery.dataset.DatasetListItem at 0x7f99c3c32370>,\n",
       " <google.cloud.bigquery.dataset.DatasetListItem at 0x7f99c3c32850>,\n",
       " <google.cloud.bigquery.dataset.DatasetListItem at 0x7f99c3c322e0>]"
      ]
     },
     "execution_count": 35,
     "metadata": {},
     "output_type": "execute_result"
    }
   ],
   "source": [
    "con = BigQueryConnector()\n",
    "con.datasets"
   ]
  },
  {
   "cell_type": "code",
   "execution_count": null,
   "metadata": {},
   "outputs": [],
   "source": []
  }
 ],
 "metadata": {
  "kernelspec": {
   "display_name": "base",
   "language": "python",
   "name": "python3"
  },
  "language_info": {
   "codemirror_mode": {
    "name": "ipython",
    "version": 3
   },
   "file_extension": ".py",
   "mimetype": "text/x-python",
   "name": "python",
   "nbconvert_exporter": "python",
   "pygments_lexer": "ipython3",
   "version": "3.9.7"
  },
  "orig_nbformat": 4
 },
 "nbformat": 4,
 "nbformat_minor": 2
}

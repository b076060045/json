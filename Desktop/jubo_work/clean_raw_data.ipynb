{
 "cells": [
  {
   "cell_type": "code",
   "execution_count": 3,
   "metadata": {},
   "outputs": [],
   "source": [
    "import linkinpark\n",
    "import os\n",
    "import pandas as pd\n",
    "from linkinpark.lib.common.bq_manager import BigQueryConnector \n",
    "import matplotlib.pyplot as plt\n",
    "import sys"
   ]
  },
  {
   "cell_type": "code",
   "execution_count": 2,
   "metadata": {},
   "outputs": [],
   "source": [
    "os.environ['GOOGLE_APPLICATION_CREDENTIALS'] = '/Users/xuzhejia/jubo_work/gcp_key.json'"
   ]
  },
  {
   "cell_type": "code",
   "execution_count": 5,
   "metadata": {},
   "outputs": [
    {
     "data": {
      "text/plain": [
       "'--ip=127.0.0.1'"
      ]
     },
     "execution_count": 5,
     "metadata": {},
     "output_type": "execute_result"
    }
   ],
   "source": [
    "sys.argv[1]"
   ]
  },
  {
   "cell_type": "code",
   "execution_count": null,
   "metadata": {},
   "outputs": [],
   "source": [
    "\n",
    "def main():\n",
    "    TARGET = sys.argv[1]\n",
    "\n",
    "    path = '/'.join(os.path.abspath(__file__).split('/')[0:-1])\n",
    "\n",
    "    with open(os.path.join(path, '%s.sql' % TARGET), 'r') as query_sql:\n",
    "        query_sql = query_sql.read()\n",
    "    query_sql = query_sql.format(target=TARGET)\n",
    "\n",
    "    bq_connector = BigQueryConnector()\n",
    "    _, _ = bq_connector.execute_sql_in_bq(query_sql)\n",
    "\n",
    "\n",
    "if __name__ == '__main__':\n",
    "    main()\n"
   ]
  }
 ],
 "metadata": {
  "kernelspec": {
   "display_name": "base",
   "language": "python",
   "name": "python3"
  },
  "language_info": {
   "codemirror_mode": {
    "name": "ipython",
    "version": 3
   },
   "file_extension": ".py",
   "mimetype": "text/x-python",
   "name": "python",
   "nbconvert_exporter": "python",
   "pygments_lexer": "ipython3",
   "version": "3.9.7"
  },
  "orig_nbformat": 4
 },
 "nbformat": 4,
 "nbformat_minor": 2
}
